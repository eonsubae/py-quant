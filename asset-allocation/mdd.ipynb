{
 "cells": [
  {
   "cell_type": "code",
   "execution_count": 3,
   "metadata": {},
   "outputs": [],
   "source": [
    "def cummax(nums):\n",
    "    cum = []\n",
    "    max = 0\n",
    "\n",
    "    for item in nums:\n",
    "        if item > max:\n",
    "            max = item\n",
    "        cum.append(max)\n",
    "    return cum"
   ]
  },
  {
   "cell_type": "code",
   "execution_count": 4,
   "metadata": {},
   "outputs": [
    {
     "name": "stdout",
     "output_type": "stream",
     "text": [
      "-0.5\n"
     ]
    }
   ],
   "source": [
    "values = [100, 120, 130, 100, 65, 80, 100, 120, 140, 160]\n",
    "drawdown = [ x - y for x, y in zip(values, cummax(values))]\n",
    "idx_lower = drawdown.index(min(drawdown))\n",
    "idx_upper = values.index(max(values[:idx_lower]))\n",
    "\n",
    "print((values[idx_lower] - values[idx_upper]) / values[idx_upper])"
   ]
  },
  {
   "cell_type": "code",
   "execution_count": 5,
   "metadata": {},
   "outputs": [
    {
     "name": "stdout",
     "output_type": "stream",
     "text": [
      "-0.5\n"
     ]
    }
   ],
   "source": [
    "import numpy as np\n",
    "\n",
    "def mdd(x):\n",
    "    arr = np.array(x)\n",
    "    idx_lower = np.argmin(arr - np.maximum.accumulate(arr))\n",
    "    idx_upper = np.argmax(arr[:idx_lower])\n",
    "    return (arr[idx_lower] - arr[idx_upper]) / arr[idx_upper]\n",
    "\n",
    "print(mdd(values))"
   ]
  },
  {
   "cell_type": "code",
   "execution_count": null,
   "metadata": {},
   "outputs": [],
   "source": []
  }
 ],
 "metadata": {
  "interpreter": {
   "hash": "fe059d4c18d58e44917435d8d974ed83db7c48e0b1d6ab38e5edb12aaec84494"
  },
  "kernelspec": {
   "display_name": "Python 3.9.7 64-bit ('base': conda)",
   "language": "python",
   "name": "python3"
  },
  "language_info": {
   "codemirror_mode": {
    "name": "ipython",
    "version": 3
   },
   "file_extension": ".py",
   "mimetype": "text/x-python",
   "name": "python",
   "nbconvert_exporter": "python",
   "pygments_lexer": "ipython3",
   "version": "3.9.7"
  },
  "orig_nbformat": 4
 },
 "nbformat": 4,
 "nbformat_minor": 2
}
