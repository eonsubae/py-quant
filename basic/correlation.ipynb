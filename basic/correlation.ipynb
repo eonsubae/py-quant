{
 "cells": [
  {
   "cell_type": "code",
   "execution_count": 8,
   "metadata": {},
   "outputs": [],
   "source": [
    "import math"
   ]
  },
  {
   "cell_type": "code",
   "execution_count": 9,
   "metadata": {},
   "outputs": [],
   "source": [
    "# 평균을 계산하는 함수\n",
    "def mean(x):\n",
    "    return sum(x) / len(x)"
   ]
  },
  {
   "cell_type": "code",
   "execution_count": 10,
   "metadata": {},
   "outputs": [],
   "source": [
    "# 두  리스트 곱의 합계\n",
    "def sum_of_product(xs, ys):\n",
    "    return sum(x * y for x, y in zip(xs, ys))"
   ]
  },
  {
   "cell_type": "code",
   "execution_count": 11,
   "metadata": {},
   "outputs": [],
   "source": [
    "# 제곱합을 계산하는 함수\n",
    "def sum_of_squares(v):\n",
    "    return sum_of_product(v, v)"
   ]
  },
  {
   "cell_type": "code",
   "execution_count": 12,
   "metadata": {},
   "outputs": [],
   "source": [
    "# 편차를 계산하는 함수\n",
    "def deviation(xs):\n",
    "    x_mean = mean(xs)\n",
    "    return [x - x_mean for x in xs]"
   ]
  },
  {
   "cell_type": "code",
   "execution_count": 13,
   "metadata": {},
   "outputs": [],
   "source": [
    "# 분산을 계산하는 함수\n",
    "def variance(x):\n",
    "    n = len(x)\n",
    "    deviations = deviation(x)\n",
    "    return sum_of_squares(deviations) / (n - 1)"
   ]
  },
  {
   "cell_type": "code",
   "execution_count": 14,
   "metadata": {},
   "outputs": [],
   "source": [
    "# 공분산을 계산하는 함수\n",
    "def covariance(x, y):\n",
    "    n = len(x)\n",
    "    return sum_of_product(deviation(x), deviation(y)) / (n - 1)"
   ]
  },
  {
   "cell_type": "code",
   "execution_count": 15,
   "metadata": {},
   "outputs": [],
   "source": [
    "# 표준편차를 계산하는 함수\n",
    "def standard_deviation(x):\n",
    "    return math.sqrt(variance(x)) # math 모듈의 제곱근 함수 sqrt()를 사용"
   ]
  },
  {
   "cell_type": "code",
   "execution_count": 16,
   "metadata": {},
   "outputs": [],
   "source": [
    "# 상관계수를 계산하는 함수\n",
    "def correlation(xs, ys):\n",
    "    stdev_x = standard_deviation(xs)\n",
    "    stdev_y = standard_deviation(ys)\n",
    "    if stdev_x > 0 and stdev_y > 0:\n",
    "        return covariance(xs, ys) / (stdev_x * stdev_y)\n",
    "    else:\n",
    "        return 0 # 편차가 존재하지 않는다면 상관관계는 0"
   ]
  },
  {
   "cell_type": "code",
   "execution_count": 17,
   "metadata": {},
   "outputs": [
    {
     "name": "stdout",
     "output_type": "stream",
     "text": [
      "0.9950765901904326\n"
     ]
    }
   ],
   "source": [
    "# x와 y 리스트와 correlation() 함수를 사용해 상관관계를 계산\n",
    "x = [41, 43, 38, 37]\n",
    "y = [61, 63, 56, 55]\n",
    "print(correlation(x, y))"
   ]
  },
  {
   "cell_type": "code",
   "execution_count": 18,
   "metadata": {},
   "outputs": [
    {
     "name": "stdout",
     "output_type": "stream",
     "text": [
      "-0.9910397700847882\n"
     ]
    }
   ],
   "source": [
    "x = [35, 45, 35, 34]\n",
    "y = [65, 54, 64, 67]\n",
    "print(correlation(x, y))"
   ]
  },
  {
   "cell_type": "code",
   "execution_count": 20,
   "metadata": {},
   "outputs": [
    {
     "name": "stdout",
     "output_type": "stream",
     "text": [
      "0.009405128133399419\n"
     ]
    }
   ],
   "source": [
    "x = [35, 45, 35, 34]\n",
    "y = [65, 66, 64, 68]\n",
    "print(correlation(x, y))"
   ]
  },
  {
   "cell_type": "code",
   "execution_count": null,
   "metadata": {},
   "outputs": [],
   "source": []
  }
 ],
 "metadata": {
  "interpreter": {
   "hash": "fe059d4c18d58e44917435d8d974ed83db7c48e0b1d6ab38e5edb12aaec84494"
  },
  "kernelspec": {
   "display_name": "Python 3.9.7 64-bit ('base': conda)",
   "language": "python",
   "name": "python3"
  },
  "language_info": {
   "codemirror_mode": {
    "name": "ipython",
    "version": 3
   },
   "file_extension": ".py",
   "mimetype": "text/x-python",
   "name": "python",
   "nbconvert_exporter": "python",
   "pygments_lexer": "ipython3",
   "version": "3.9.7"
  },
  "orig_nbformat": 4
 },
 "nbformat": 4,
 "nbformat_minor": 2
}
